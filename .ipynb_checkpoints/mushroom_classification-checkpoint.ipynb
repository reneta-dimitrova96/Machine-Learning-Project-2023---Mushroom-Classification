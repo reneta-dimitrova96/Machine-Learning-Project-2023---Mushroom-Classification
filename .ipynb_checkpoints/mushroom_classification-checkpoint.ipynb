{
 "cells": [
  {
   "cell_type": "code",
   "execution_count": 6,
   "id": "initial_id",
   "metadata": {
    "collapsed": true,
    "ExecuteTime": {
     "end_time": "2023-11-25T15:43:32.063519900Z",
     "start_time": "2023-11-25T15:43:31.469546500Z"
    }
   },
   "outputs": [],
   "source": [
    "import pandas as pd\n",
    "import matplotlib.pyplot as plt\n",
    "import seaborn as sns\n",
    "import mlflow\n",
    "\n",
    "from sklearn.preprocessing import LabelEncoder"
   ]
  },
  {
   "cell_type": "code",
   "execution_count": 28,
   "outputs": [],
   "source": [
    "experiment = mlflow.create_experiment(name=\"Init\")"
   ],
   "metadata": {
    "collapsed": false,
    "ExecuteTime": {
     "end_time": "2023-11-25T15:56:52.860987800Z",
     "start_time": "2023-11-25T15:56:52.829692700Z"
    }
   },
   "id": "33419e5918a85cd"
  },
  {
   "cell_type": "code",
   "execution_count": 30,
   "outputs": [],
   "source": [
    "run = mlflow.start_run(experiment_id=experiment, nested=True)"
   ],
   "metadata": {
    "collapsed": false,
    "ExecuteTime": {
     "end_time": "2023-11-25T15:57:19.400795700Z",
     "start_time": "2023-11-25T15:57:19.325773600Z"
    }
   },
   "id": "f2fbc94f71ad8369"
  },
  {
   "cell_type": "code",
   "execution_count": 31,
   "outputs": [],
   "source": [
    "mlflow.log_artifact(\"data/mushrooms.csv\")"
   ],
   "metadata": {
    "collapsed": false,
    "ExecuteTime": {
     "end_time": "2023-11-25T15:57:20.827801100Z",
     "start_time": "2023-11-25T15:57:20.796550300Z"
    }
   },
   "id": "72648f1f0d9e2c32"
  },
  {
   "cell_type": "code",
   "execution_count": 32,
   "outputs": [
    {
     "data": {
      "text/plain": "False"
     },
     "execution_count": 32,
     "metadata": {},
     "output_type": "execute_result"
    }
   ],
   "source": [
    "mlflow.log_param(\"train_test_split\", False)"
   ],
   "metadata": {
    "collapsed": false,
    "ExecuteTime": {
     "end_time": "2023-11-25T15:57:22.219181900Z",
     "start_time": "2023-11-25T15:57:22.187897500Z"
    }
   },
   "id": "1dcb78e5efa09e94"
  },
  {
   "cell_type": "code",
   "execution_count": 33,
   "outputs": [],
   "source": [
    "mlflow.end_run()"
   ],
   "metadata": {
    "collapsed": false,
    "ExecuteTime": {
     "end_time": "2023-11-25T15:57:31.058973500Z",
     "start_time": "2023-11-25T15:57:31.043328600Z"
    }
   },
   "id": "c520f4d122a8c190"
  }
 ],
 "metadata": {
  "kernelspec": {
   "display_name": "Python 3",
   "language": "python",
   "name": "python3"
  },
  "language_info": {
   "codemirror_mode": {
    "name": "ipython",
    "version": 2
   },
   "file_extension": ".py",
   "mimetype": "text/x-python",
   "name": "python",
   "nbconvert_exporter": "python",
   "pygments_lexer": "ipython2",
   "version": "2.7.6"
  }
 },
 "nbformat": 4,
 "nbformat_minor": 5
}
