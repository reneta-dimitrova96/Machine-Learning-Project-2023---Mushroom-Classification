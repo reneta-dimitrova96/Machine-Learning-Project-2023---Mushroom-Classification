{
 "cells": [
  {
   "cell_type": "code",
   "execution_count": 82,
   "id": "initial_id",
   "metadata": {
    "ExecuteTime": {
     "end_time": "2023-11-25T16:34:24.927435700Z",
     "start_time": "2023-11-25T16:34:24.911811100Z"
    }
   },
   "outputs": [],
   "source": [
    "import pandas as pd\n",
    "import matplotlib.pyplot as plt\n",
    "import seaborn as sns\n",
    "import mlflow\n",
    "\n",
    "from sklearn.preprocessing import LabelEncoder"
   ]
  },
  {
   "cell_type": "code",
   "execution_count": 84,
   "outputs": [],
   "source": [
    "experiment = mlflow.create_experiment(name=\"Getting Data Information\")"
   ],
   "metadata": {
    "collapsed": false,
    "ExecuteTime": {
     "end_time": "2023-11-25T16:34:39.406476200Z",
     "start_time": "2023-11-25T16:34:39.390697600Z"
    }
   },
   "id": "536a69ea8575dae5"
  },
  {
   "cell_type": "code",
   "execution_count": 85,
   "outputs": [],
   "source": [
    "run = mlflow.start_run(experiment_id=experiment)"
   ],
   "metadata": {
    "collapsed": false,
    "ExecuteTime": {
     "end_time": "2023-11-25T16:34:41.071709900Z",
     "start_time": "2023-11-25T16:34:41.007568500Z"
    }
   },
   "id": "c57e7f6846dea64b"
  },
  {
   "cell_type": "code",
   "execution_count": 86,
   "outputs": [],
   "source": [
    "mlflow.log_artifact(\"data/mushrooms.csv\")"
   ],
   "metadata": {
    "collapsed": false,
    "ExecuteTime": {
     "end_time": "2023-11-25T16:34:43.071358300Z",
     "start_time": "2023-11-25T16:34:43.055688700Z"
    }
   },
   "id": "6b814b46fed0d954"
  },
  {
   "cell_type": "code",
   "execution_count": 74,
   "outputs": [],
   "source": [
    "data = pd.read_csv(\"data/mushrooms.csv\")"
   ],
   "metadata": {
    "collapsed": false,
    "ExecuteTime": {
     "end_time": "2023-11-25T16:32:59.007517400Z",
     "start_time": "2023-11-25T16:32:58.960642Z"
    }
   },
   "id": "a51a7900e2277e32"
  },
  {
   "cell_type": "code",
   "execution_count": 75,
   "outputs": [
    {
     "data": {
      "text/plain": "(8124, 23)"
     },
     "execution_count": 75,
     "metadata": {},
     "output_type": "execute_result"
    }
   ],
   "source": [
    "data.shape"
   ],
   "metadata": {
    "collapsed": false,
    "ExecuteTime": {
     "end_time": "2023-11-25T16:33:01.904766600Z",
     "start_time": "2023-11-25T16:33:01.873475800Z"
    }
   },
   "id": "27bbdee7155d22f2"
  },
  {
   "cell_type": "code",
   "execution_count": 76,
   "outputs": [
    {
     "data": {
      "text/plain": "class                       object\ncap-shape                   object\ncap-surface                 object\ncap-color                   object\nbruises                     object\nodor                        object\ngill-attachment             object\ngill-spacing                object\ngill-size                   object\ngill-color                  object\nstalk-shape                 object\nstalk-root                  object\nstalk-surface-above-ring    object\nstalk-surface-below-ring    object\nstalk-color-above-ring      object\nstalk-color-below-ring      object\nveil-type                   object\nveil-color                  object\nring-number                 object\nring-type                   object\nspore-print-color           object\npopulation                  object\nhabitat                     object\ndtype: object"
     },
     "execution_count": 76,
     "metadata": {},
     "output_type": "execute_result"
    }
   ],
   "source": [
    "data.dtypes"
   ],
   "metadata": {
    "collapsed": false,
    "ExecuteTime": {
     "end_time": "2023-11-25T16:33:03.684159200Z",
     "start_time": "2023-11-25T16:33:03.651459Z"
    }
   },
   "id": "3a56fda4076980e4"
  },
  {
   "cell_type": "code",
   "execution_count": 77,
   "outputs": [
    {
     "data": {
      "text/plain": "                         count unique top  freq\nclass                     8124      2   e  4208\ncap-shape                 8124      6   x  3656\ncap-surface               8124      4   y  3244\ncap-color                 8124     10   n  2284\nbruises                   8124      2   f  4748\nodor                      8124      9   n  3528\ngill-attachment           8124      2   f  7914\ngill-spacing              8124      2   c  6812\ngill-size                 8124      2   b  5612\ngill-color                8124     12   b  1728\nstalk-shape               8124      2   t  4608\nstalk-root                8124      5   b  3776\nstalk-surface-above-ring  8124      4   s  5176\nstalk-surface-below-ring  8124      4   s  4936\nstalk-color-above-ring    8124      9   w  4464\nstalk-color-below-ring    8124      9   w  4384\nveil-type                 8124      1   p  8124\nveil-color                8124      4   w  7924\nring-number               8124      3   o  7488\nring-type                 8124      5   p  3968\nspore-print-color         8124      9   w  2388\npopulation                8124      6   v  4040\nhabitat                   8124      7   d  3148",
      "text/html": "<div>\n<style scoped>\n    .dataframe tbody tr th:only-of-type {\n        vertical-align: middle;\n    }\n\n    .dataframe tbody tr th {\n        vertical-align: top;\n    }\n\n    .dataframe thead th {\n        text-align: right;\n    }\n</style>\n<table border=\"1\" class=\"dataframe\">\n  <thead>\n    <tr style=\"text-align: right;\">\n      <th></th>\n      <th>count</th>\n      <th>unique</th>\n      <th>top</th>\n      <th>freq</th>\n    </tr>\n  </thead>\n  <tbody>\n    <tr>\n      <th>class</th>\n      <td>8124</td>\n      <td>2</td>\n      <td>e</td>\n      <td>4208</td>\n    </tr>\n    <tr>\n      <th>cap-shape</th>\n      <td>8124</td>\n      <td>6</td>\n      <td>x</td>\n      <td>3656</td>\n    </tr>\n    <tr>\n      <th>cap-surface</th>\n      <td>8124</td>\n      <td>4</td>\n      <td>y</td>\n      <td>3244</td>\n    </tr>\n    <tr>\n      <th>cap-color</th>\n      <td>8124</td>\n      <td>10</td>\n      <td>n</td>\n      <td>2284</td>\n    </tr>\n    <tr>\n      <th>bruises</th>\n      <td>8124</td>\n      <td>2</td>\n      <td>f</td>\n      <td>4748</td>\n    </tr>\n    <tr>\n      <th>odor</th>\n      <td>8124</td>\n      <td>9</td>\n      <td>n</td>\n      <td>3528</td>\n    </tr>\n    <tr>\n      <th>gill-attachment</th>\n      <td>8124</td>\n      <td>2</td>\n      <td>f</td>\n      <td>7914</td>\n    </tr>\n    <tr>\n      <th>gill-spacing</th>\n      <td>8124</td>\n      <td>2</td>\n      <td>c</td>\n      <td>6812</td>\n    </tr>\n    <tr>\n      <th>gill-size</th>\n      <td>8124</td>\n      <td>2</td>\n      <td>b</td>\n      <td>5612</td>\n    </tr>\n    <tr>\n      <th>gill-color</th>\n      <td>8124</td>\n      <td>12</td>\n      <td>b</td>\n      <td>1728</td>\n    </tr>\n    <tr>\n      <th>stalk-shape</th>\n      <td>8124</td>\n      <td>2</td>\n      <td>t</td>\n      <td>4608</td>\n    </tr>\n    <tr>\n      <th>stalk-root</th>\n      <td>8124</td>\n      <td>5</td>\n      <td>b</td>\n      <td>3776</td>\n    </tr>\n    <tr>\n      <th>stalk-surface-above-ring</th>\n      <td>8124</td>\n      <td>4</td>\n      <td>s</td>\n      <td>5176</td>\n    </tr>\n    <tr>\n      <th>stalk-surface-below-ring</th>\n      <td>8124</td>\n      <td>4</td>\n      <td>s</td>\n      <td>4936</td>\n    </tr>\n    <tr>\n      <th>stalk-color-above-ring</th>\n      <td>8124</td>\n      <td>9</td>\n      <td>w</td>\n      <td>4464</td>\n    </tr>\n    <tr>\n      <th>stalk-color-below-ring</th>\n      <td>8124</td>\n      <td>9</td>\n      <td>w</td>\n      <td>4384</td>\n    </tr>\n    <tr>\n      <th>veil-type</th>\n      <td>8124</td>\n      <td>1</td>\n      <td>p</td>\n      <td>8124</td>\n    </tr>\n    <tr>\n      <th>veil-color</th>\n      <td>8124</td>\n      <td>4</td>\n      <td>w</td>\n      <td>7924</td>\n    </tr>\n    <tr>\n      <th>ring-number</th>\n      <td>8124</td>\n      <td>3</td>\n      <td>o</td>\n      <td>7488</td>\n    </tr>\n    <tr>\n      <th>ring-type</th>\n      <td>8124</td>\n      <td>5</td>\n      <td>p</td>\n      <td>3968</td>\n    </tr>\n    <tr>\n      <th>spore-print-color</th>\n      <td>8124</td>\n      <td>9</td>\n      <td>w</td>\n      <td>2388</td>\n    </tr>\n    <tr>\n      <th>population</th>\n      <td>8124</td>\n      <td>6</td>\n      <td>v</td>\n      <td>4040</td>\n    </tr>\n    <tr>\n      <th>habitat</th>\n      <td>8124</td>\n      <td>7</td>\n      <td>d</td>\n      <td>3148</td>\n    </tr>\n  </tbody>\n</table>\n</div>"
     },
     "execution_count": 77,
     "metadata": {},
     "output_type": "execute_result"
    }
   ],
   "source": [
    "data.describe().T"
   ],
   "metadata": {
    "collapsed": false,
    "ExecuteTime": {
     "end_time": "2023-11-25T16:33:06.356884600Z",
     "start_time": "2023-11-25T16:33:06.325253100Z"
    }
   },
   "id": "ddd3b8d7696c40b5"
  },
  {
   "cell_type": "code",
   "execution_count": 78,
   "outputs": [
    {
     "data": {
      "text/plain": "class                       0\ncap-shape                   0\ncap-surface                 0\ncap-color                   0\nbruises                     0\nodor                        0\ngill-attachment             0\ngill-spacing                0\ngill-size                   0\ngill-color                  0\nstalk-shape                 0\nstalk-root                  0\nstalk-surface-above-ring    0\nstalk-surface-below-ring    0\nstalk-color-above-ring      0\nstalk-color-below-ring      0\nveil-type                   0\nveil-color                  0\nring-number                 0\nring-type                   0\nspore-print-color           0\npopulation                  0\nhabitat                     0\ndtype: int64"
     },
     "execution_count": 78,
     "metadata": {},
     "output_type": "execute_result"
    }
   ],
   "source": [
    "data.isnull().sum()"
   ],
   "metadata": {
    "collapsed": false,
    "ExecuteTime": {
     "end_time": "2023-11-25T16:33:08.763807600Z",
     "start_time": "2023-11-25T16:33:08.748171600Z"
    }
   },
   "id": "fc17e1b6c009316a"
  },
  {
   "cell_type": "code",
   "execution_count": 87,
   "outputs": [],
   "source": [
    "for column in data:\n",
    "    mlflow.log_param(column, data[column].unique())"
   ],
   "metadata": {
    "collapsed": false,
    "ExecuteTime": {
     "end_time": "2023-11-25T16:34:50.271687800Z",
     "start_time": "2023-11-25T16:34:50.190551100Z"
    }
   },
   "id": "8a14beb8ed8d330c"
  },
  {
   "cell_type": "code",
   "execution_count": 88,
   "id": "1dcb78e5efa09e94",
   "metadata": {
    "collapsed": false,
    "ExecuteTime": {
     "end_time": "2023-11-25T16:34:53.717586700Z",
     "start_time": "2023-11-25T16:34:53.656688Z"
    }
   },
   "outputs": [
    {
     "data": {
      "text/plain": "False"
     },
     "execution_count": 88,
     "metadata": {},
     "output_type": "execute_result"
    }
   ],
   "source": [
    "mlflow.log_param(\"train_test_split\", False)"
   ]
  },
  {
   "cell_type": "code",
   "execution_count": 89,
   "id": "c520f4d122a8c190",
   "metadata": {
    "collapsed": false,
    "ExecuteTime": {
     "end_time": "2023-11-25T16:34:55.737804200Z",
     "start_time": "2023-11-25T16:34:55.724795300Z"
    }
   },
   "outputs": [],
   "source": [
    "mlflow.end_run()"
   ]
  }
 ],
 "metadata": {
  "kernelspec": {
   "display_name": "Python 3 (ipykernel)",
   "language": "python",
   "name": "python3"
  },
  "language_info": {
   "codemirror_mode": {
    "name": "ipython",
    "version": 3
   },
   "file_extension": ".py",
   "mimetype": "text/x-python",
   "name": "python",
   "nbconvert_exporter": "python",
   "pygments_lexer": "ipython3",
   "version": "3.10.0"
  }
 },
 "nbformat": 4,
 "nbformat_minor": 5
}
